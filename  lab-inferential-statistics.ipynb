{
 "cells": [
  {
   "cell_type": "markdown",
   "id": "c11f0098",
   "metadata": {},
   "source": [
    "# Lab 7.03"
   ]
  },
  {
   "cell_type": "markdown",
   "id": "00c34b35",
   "metadata": {},
   "source": [
    "## Instructions\n",
    "\n",
    "It is assumed that the mean systolic blood pressure is μ = 120 mm Hg. In the Honolulu Heart Study, a sample of n = 100 people had an average systolic blood pressure of 130.1 mm Hg with a standard deviation of 21.21 mm Hg. Is the group significantly different (with respect to systolic blood pressure!) from the regular population?\n",
    "\n",
    "* Set up the hypothesis test.\n",
    "* Write down all the steps followed for setting up the test.\n",
    "* Calculate the test statistic by hand and also code it in Python. It should be 4.76190. We will take a look at how to make decisions based on this calculated value."
   ]
  },
  {
   "cell_type": "markdown",
   "id": "f11360b4",
   "metadata": {},
   "source": [
    "__Set up the hypotheses:__\n",
    "Ho (Null Hypothesis) - the mean systolic blood pressure is μ = 120 mm Hg.\n",
    "Ha (Alternative Hypothesis) - an average systolic blood pressure not equal to 120 mm Hg.\n",
    "\n",
    "__Decide on the significance level:__\n",
    "Alpha value defined as 0.05 or 5%.\n",
    "\n",
    "__Decide on one or two tailed test:__\n",
    "As alternative hypothesis assumes the mean not equal to 120, it is two tailed test.\n",
    "\n",
    "__Z or T value:__\n",
    "Z, as we know the standard deviation.\n",
    "\n",
    "__Steps:__\n",
    "* Define Z value\n",
    "* Find the probability (p-value)\n",
    "* Decide whether to accept or reject null hypothesis."
   ]
  },
  {
   "cell_type": "code",
   "execution_count": 2,
   "id": "e8e44920",
   "metadata": {},
   "outputs": [],
   "source": [
    "import math"
   ]
  },
  {
   "cell_type": "code",
   "execution_count": 3,
   "id": "4ad3e8ec",
   "metadata": {},
   "outputs": [
    {
     "name": "stdout",
     "output_type": "stream",
     "text": [
      "Statistic is:  4.7619\n"
     ]
    }
   ],
   "source": [
    "sample_mean = 130.1\n",
    "pop_mean = 120\n",
    "sample_std = 21.21\n",
    "n = 100\n",
    "statistic = (sample_mean - pop_mean)/(sample_std/math.sqrt(n))\n",
    "print(\"Statistic is: \", round(statistic, 4))  #Z-value"
   ]
  },
  {
   "cell_type": "markdown",
   "id": "55cb4974",
   "metadata": {},
   "source": [
    "__Result:__\n",
    "\n",
    "The value is not on the table so the p-value is too low (< .00001 as shows online calculator) --> we __reject the null hypothesis__ as alpha is much bigger than p-value."
   ]
  }
 ],
 "metadata": {
  "kernelspec": {
   "display_name": "Python 3 (ipykernel)",
   "language": "python",
   "name": "python3"
  },
  "language_info": {
   "codemirror_mode": {
    "name": "ipython",
    "version": 3
   },
   "file_extension": ".py",
   "mimetype": "text/x-python",
   "name": "python",
   "nbconvert_exporter": "python",
   "pygments_lexer": "ipython3",
   "version": "3.9.7"
  }
 },
 "nbformat": 4,
 "nbformat_minor": 5
}
